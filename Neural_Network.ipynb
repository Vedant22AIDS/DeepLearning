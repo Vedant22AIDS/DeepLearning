{
  "nbformat": 4,
  "nbformat_minor": 0,
  "metadata": {
    "colab": {
      "provenance": []
    },
    "kernelspec": {
      "name": "python3",
      "display_name": "Python 3"
    },
    "language_info": {
      "name": "python"
    }
  },
  "cells": [
    {
      "cell_type": "code",
      "execution_count": null,
      "metadata": {
        "id": "0pDt52fF1eDf"
      },
      "outputs": [],
      "source": [
        "import tensorflow as tf\n",
        "from tensorflow.keras import Sequential # Sequential = input-> Hidden layer -> output\n",
        "from tensorflow.keras.layers import Dense # Dense = fully connected layer"
      ]
    },
    {
      "cell_type": "code",
      "source": [
        "model=Sequential()\n",
        "model.add(Dense(10,activation='relu',input_shape=(4,))) # input_shape -> number of features of dataset\n",
        "model.add(Dense(5,activation='relu'))#2nd hidden layer\n",
        "model.add(Dense(2,activation='tanh'))#3rd hidden layer\n",
        "model.add(Dense(1,activation='linear')) # for regression problem output layer"
      ],
      "metadata": {
        "colab": {
          "base_uri": "https://localhost:8080/"
        },
        "id": "oUBarhC81yYM",
        "outputId": "ef849a14-1c29-466e-a551-0ee34b76e0df"
      },
      "execution_count": null,
      "outputs": [
        {
          "output_type": "stream",
          "name": "stderr",
          "text": [
            "/usr/local/lib/python3.10/dist-packages/keras/src/layers/core/dense.py:87: UserWarning: Do not pass an `input_shape`/`input_dim` argument to a layer. When using Sequential models, prefer using an `Input(shape)` object as the first layer in the model instead.\n",
            "  super().__init__(activity_regularizer=activity_regularizer, **kwargs)\n"
          ]
        }
      ]
    },
    {
      "cell_type": "code",
      "source": [
        "model.compile(loss='mse',optimizer='sgd',metrics=['mse'])"
      ],
      "metadata": {
        "id": "KG15X4aI194c"
      },
      "execution_count": null,
      "outputs": []
    },
    {
      "cell_type": "code",
      "source": [
        "model.fit(X,y,epochs=20)"
      ],
      "metadata": {
        "id": "wfOEbliD7w1u"
      },
      "execution_count": null,
      "outputs": []
    }
  ]
}